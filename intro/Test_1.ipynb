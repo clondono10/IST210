{
  "nbformat": 4,
  "nbformat_minor": 0,
  "metadata": {
    "colab": {
      "name": "Test 1",
      "provenance": [],
      "authorship_tag": "ABX9TyNH5SwTVOxe9ayYQPLSCC4Z",
      "include_colab_link": true
    },
    "kernelspec": {
      "name": "python3",
      "display_name": "Python 3"
    }
  },
  "cells": [
    {
      "cell_type": "markdown",
      "metadata": {
        "id": "view-in-github",
        "colab_type": "text"
      },
      "source": [
        "<a href=\"https://colab.research.google.com/github/clondono10/IST210/blob/master/intro/Test_1.ipynb\" target=\"_parent\"><img src=\"https://colab.research.google.com/assets/colab-badge.svg\" alt=\"Open In Colab\"/></a>"
      ]
    },
    {
      "cell_type": "code",
      "metadata": {
        "id": "enL9EXazzZA-",
        "colab_type": "code",
        "colab": {
          "base_uri": "https://localhost:8080/",
          "height": 35
        },
        "outputId": "39f1d01c-cb23-4f25-f059-5941f8d65ba8"
      },
      "source": [
        "2+2"
      ],
      "execution_count": 2,
      "outputs": [
        {
          "output_type": "execute_result",
          "data": {
            "text/plain": [
              "4"
            ]
          },
          "metadata": {
            "tags": []
          },
          "execution_count": 2
        }
      ]
    },
    {
      "cell_type": "markdown",
      "metadata": {
        "id": "owFT3BBZ0ASM",
        "colab_type": "text"
      },
      "source": [
        "7+8"
      ]
    },
    {
      "cell_type": "code",
      "metadata": {
        "id": "U-F2vonX0Lzh",
        "colab_type": "code",
        "colab": {}
      },
      "source": [
        ""
      ],
      "execution_count": 0,
      "outputs": []
    },
    {
      "cell_type": "markdown",
      "metadata": {
        "id": "uubqPksI0Wmr",
        "colab_type": "text"
      },
      "source": [
        " # this is a header\n",
        " ## this is the 2nd header\n"
      ]
    },
    {
      "cell_type": "markdown",
      "metadata": {
        "id": "zxfv5u250y9K",
        "colab_type": "text"
      },
      "source": [
        ""
      ]
    },
    {
      "cell_type": "markdown",
      "metadata": {
        "id": "Ylis7rmL0hK7",
        "colab_type": "text"
      },
      "source": [
        ""
      ]
    },
    {
      "cell_type": "markdown",
      "metadata": {
        "id": "LDeG29lM4J7Z",
        "colab_type": "text"
      },
      "source": [
        "![alt text](https://raw.githubusercontent.com/clondono10/IST210/master/intro/Missing%20Number.PNG)"
      ]
    }
  ]
}