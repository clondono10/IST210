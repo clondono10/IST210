{
  "nbformat": 4,
  "nbformat_minor": 0,
  "metadata": {
    "colab": {
      "name": "Lab 2",
      "provenance": [],
      "collapsed_sections": []
    },
    "kernelspec": {
      "name": "python3",
      "display_name": "Python 3"
    }
  },
  "cells": [
    {
      "cell_type": "markdown",
      "metadata": {
        "id": "zh1PKBX4P_Wi",
        "colab_type": "text"
      },
      "source": [
        "![alt text](https://raw.githubusercontent.com/clondono10/IST210/master/IST210/intro/Lab%202.png)"
      ]
    },
    {
      "cell_type": "markdown",
      "metadata": {
        "id": "iLu2J786Q2zu",
        "colab_type": "text"
      },
      "source": [
        "This ER diagram represents a local pet shop. In this there are 6 different tables, each one representing a key piece of a pet shop and the actions that go on within the shop. The entities on each table are as follows;Transactions Pet, Transactions Food, Customer, Food, Pet, and Enclosures. Each Table has attributes assigned to them. Some attributes are special and are known as Primary Keys or Foreign keys. Some tables also have the same attributes that connect each table to each other. For example, between Pets and Food each table has an attribute called Pet ID and Food ID. The Pet ID in the Pet Table connects to the Pet ID in the Food Table and vice versa. These IDs are also the Primary Key for their respective table and the Foreign key for their opposite table. Each connection between tables also had a specific relationship to each other. Specifically the word that connected them was a verb. In my ER diagram, two of my relationships were the word \"Purchases\", it connected the customer to the two transaction tables, Food and Pet. This is because the Customer purchases the pet food and/or the pet itself. The Connectivity between tables is also shown in the ER diagram. These could be different relationships known as 1:1,1:M, or M:M. In my diagram the Customer to the Transaction tables are 1:M because a single customer can make multiple food purchases or multiple pet purchases."
      ]
    }
  ]
}