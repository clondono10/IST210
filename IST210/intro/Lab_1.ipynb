{
  "nbformat": 4,
  "nbformat_minor": 0,
  "metadata": {
    "colab": {
      "name": "Lab 1",
      "provenance": [],
      "authorship_tag": "ABX9TyPh8GU94pjF8F+AGfd8rqy9",
      "include_colab_link": true
    },
    "kernelspec": {
      "name": "python3",
      "display_name": "Python 3"
    }
  },
  "cells": [
    {
      "cell_type": "markdown",
      "metadata": {
        "id": "view-in-github",
        "colab_type": "text"
      },
      "source": [
        "<a href=\"https://colab.research.google.com/github/clondono10/IST210/blob/master/IST210/intro/Lab_1.ipynb\" target=\"_parent\"><img src=\"https://colab.research.google.com/assets/colab-badge.svg\" alt=\"Open In Colab\"/></a>"
      ]
    },
    {
      "cell_type": "markdown",
      "metadata": {
        "id": "ZmubWEMIEdBS",
        "colab_type": "text"
      },
      "source": [
        "### Your Name\n",
        "Cayle Londono"
      ]
    },
    {
      "cell_type": "markdown",
      "metadata": {
        "id": "2k-hZv6tEgaV",
        "colab_type": "text"
      },
      "source": [
        "### Your IST related interests\n",
        "Big Data and Analyzing data"
      ]
    },
    {
      "cell_type": "markdown",
      "metadata": {
        "id": "B4LCWeBmEnqA",
        "colab_type": "text"
      },
      "source": [
        "### Your future job/career\n",
        "Data Scientist at a company"
      ]
    },
    {
      "cell_type": "markdown",
      "metadata": {
        "id": "Br18sYusEz62",
        "colab_type": "text"
      },
      "source": [
        "###Picture of myself\n",
        "![alt text](https://raw.githubusercontent.com/clondono10/IST210/master/intro/IMG951376.jpg)"
      ]
    }
  ]
}